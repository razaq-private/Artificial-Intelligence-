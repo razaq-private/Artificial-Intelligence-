{
 "cells": [
  {
   "cell_type": "code",
   "execution_count": 186,
   "metadata": {},
   "outputs": [],
   "source": [
    "############################################################\n",
    "# CIS 521: Homework 4\n",
    "############################################################\n",
    "\n",
    "student_name = \"Type your full name here.\"\n",
    "\n",
    "############################################################\n",
    "# Imports\n",
    "############################################################\n",
    "\n",
    "# Include your imports here, if any are used.\n",
    "\n",
    "import collections\n",
    "import copy\n",
    "import itertools\n",
    "import random\n",
    "import math\n",
    "import numpy as np\n",
    "\n",
    "############################################################\n",
    "# Section 1: Dominoes Game\n",
    "############################################################\n",
    "\n",
    "\n",
    "def create_dominoes_game(rows, cols):\n",
    "    board = [[False for i in range(cols)] for j in range(rows)]\n",
    "    return DominoesGame(board)\n",
    "\n",
    "\n",
    "class DominoesGame(object):\n",
    "\n",
    "    # Required\n",
    "    def __init__(self, board):\n",
    "        self.board = board\n",
    "        self.board_rows = len(board)\n",
    "        self.board_cols = len(board[0])\n",
    "\n",
    "    def get_board(self):\n",
    "        return self.board\n",
    "\n",
    "    def reset(self):\n",
    "        for i in range(self.board_rows):\n",
    "            for j in range(self.board_cols):\n",
    "                self.board[i][j] = False\n",
    "\n",
    "    def is_legal_move(self, row, col, vertical):\n",
    "        # check if outside boundary\n",
    "        if row < 0 or row >= self.board_rows or col < 0 or col >= self.board_cols:\n",
    "            return False\n",
    "   \n",
    "        if vertical:\n",
    "            if row + 1 >= self.board_rows:\n",
    "                return False\n",
    "            if self.board[row][col] or self.board[row + 1][col]:\n",
    "                return False\n",
    "        else:\n",
    "            if col + 1 >= self.board_cols:\n",
    "                return False\n",
    "            if self.board[row][col] or self.board[row][col + 1]:\n",
    "                return False\n",
    "        return True\n",
    "    \n",
    "    def legal_moves(self, vertical):\n",
    "        for i in range(self.board_rows):\n",
    "            for j in range(self.board_cols):\n",
    "                if self.is_legal_move(i, j, vertical):\n",
    "                    yield (i, j)\n",
    "\n",
    "    def perform_move(self, row, col, vertical):\n",
    "        self.board[row][col] = True\n",
    "        if vertical:\n",
    "            self.board[row + 1][col] = True\n",
    "        else:\n",
    "            self.board[row][col + 1] = True\n",
    "        \n",
    "\n",
    "    def game_over(self, vertical):\n",
    "        for i in range(self.board_rows):\n",
    "            for j in range(self.board_cols): \n",
    "                if self.is_legal_move(i,j,vertical):\n",
    "                    return False\n",
    "        return True\n",
    "\n",
    "    def copy(self):\n",
    "        copy_board = copy.deepcopy(self.board)\n",
    "        return DominoesGame(copy_board)\n",
    "\n",
    "    def successors(self, vertical):\n",
    "        legal_moves = self.legal_moves(vertical)\n",
    "        for move in legal_moves:\n",
    "            copy = self.copy()\n",
    "            copy.perform_move(move[0], move[1], vertical)\n",
    "            yield move, copy\n",
    "\n",
    "    def get_random_move(self, vertical):\n",
    "        legal_moves = self.legal_moves(vertical)\n",
    "        return random.choice(legal_moves)\n",
    "\n",
    "    # Required\n",
    "    \n",
    "    def get_best_move(self, vertical, limit):\n",
    "        if vertical:\n",
    "            move, value, total_leaves = self.alpha_beta_max(0, limit, -np.inf, np.inf)\n",
    "        else:\n",
    "            move, value, total_leaves = self.alpha_beta_min(0, limit, -np.inf, np.inf)\n",
    "            value = value * -1\n",
    "        return ((move[0], move[1]), value, total_leaves)\n",
    "    \n",
    "    # Create two methods for max and min\n",
    "    def alpha_beta_max(self, vertical, limit, alpha, beta):\n",
    "        # check termination condition\n",
    "        if self.game_over(True) or limit == vertical:\n",
    "            # calculate best value as num_player_moves(original vertical) - num_opp_moves(~original_vertical)\n",
    "            # return best_move, best_val, total_leaves\n",
    "            return None, len(list(self.legal_moves(True))) - len(list(self.legal_moves(False))), 1\n",
    "        \n",
    "        #initialze return variables\n",
    "        best_move = None\n",
    "        value = -np.inf\n",
    "        total_leaves = 0\n",
    "    \n",
    "        for move, new_game in self.successors(True): # try to find max of self's successors\n",
    "            new_move, new_value, new_leaves = new_game.alpha_beta_min(vertical+1, limit, alpha, beta)\n",
    "            # update total_leaves\n",
    "            total_leaves += new_leaves\n",
    "            # update variabels if new max found\n",
    "            if new_value > value:\n",
    "                value = new_value\n",
    "                best_move = move\n",
    "            if new_value >= beta:\n",
    "                # break if the prining check is true\n",
    "                break\n",
    "            if new_value > alpha:\n",
    "                # update alpha\n",
    "                alpha = new_value\n",
    "        return best_move, value, total_leaves\n",
    "    \n",
    "    def alpha_beta_min(self, vertical, limit, alpha, beta):\n",
    "        # similar to alpha_beta_max\n",
    "        # check termination condition\n",
    "        if self.game_over(False) or limit == vertical:\n",
    "            # calculate best value as num_player_moves(original vertical) - num_opp_moves(~original_vertical)\n",
    "            # return best_move, best_val, total_leaves\n",
    "            return None, len(list(self.legal_moves(True))) - len(list(self.legal_moves(False))), 1\n",
    "            \n",
    "        # initialze return variables\n",
    "        best_move = None\n",
    "        value = np.inf\n",
    "        total_leaves = 0\n",
    "        \n",
    "        for move, new_game in self.successors(False): # try to find max of self's successors\n",
    "            new_move, new_value, new_leaves = new_game.alpha_beta_max(vertical+1, limit, alpha, beta)\n",
    "            # update total_leaves\n",
    "            total_leaves += new_leaves\n",
    "            # update variabels if new max found\n",
    "            if new_value < value:\n",
    "                value = new_value\n",
    "                best_move = move\n",
    "            if new_value <= alpha:\n",
    "                # break if the prining check is true\n",
    "                break\n",
    "            # break if the prining check is true\n",
    "            if new_value < beta:\n",
    "                # update beta\n",
    "                beta = new_value\n",
    "        return best_move, value, total_leaves\n",
    "    \n",
    "\n",
    "############################################################\n",
    "# Section 2: Feedback\n",
    "############################################################\n",
    "\n",
    "feedback_question_1 = \"\"\"\n",
    "Type your response here.\n",
    "Your response may span multiple lines.\n",
    "Do not include these instructions in your response.\n",
    "\"\"\"\n",
    "\n",
    "feedback_question_2 = \"\"\"\n",
    "Type your response here.\n",
    "Your response may span multiple lines.\n",
    "Do not include these instructions in your response.\n",
    "\"\"\"\n",
    "\n",
    "feedback_question_3 = \"\"\"\n",
    "Type your response here.\n",
    "Your response may span multiple lines.\n",
    "\n",
    "Do not include these instructions in your response.\n",
    "\"\"\"\n"
   ]
  },
  {
   "cell_type": "code",
   "execution_count": 187,
   "metadata": {},
   "outputs": [
    {
     "data": {
      "text/plain": [
       "[[False, False, False], [False, False, False], [False, False, False]]"
      ]
     },
     "execution_count": 187,
     "metadata": {},
     "output_type": "execute_result"
    }
   ],
   "source": [
    "g = create_dominoes_game(3,3)\n",
    "g.get_board()"
   ]
  },
  {
   "cell_type": "code",
   "execution_count": 188,
   "metadata": {},
   "outputs": [
    {
     "data": {
      "text/plain": [
       "[[False, False], [False, False]]"
      ]
     },
     "execution_count": 188,
     "metadata": {},
     "output_type": "execute_result"
    }
   ],
   "source": [
    "a = [[True, False], [True, False]]\n",
    "g = DominoesGame(a)\n",
    "g.reset()\n",
    "g.get_board()"
   ]
  },
  {
   "cell_type": "code",
   "execution_count": 189,
   "metadata": {},
   "outputs": [
    {
     "name": "stdout",
     "output_type": "stream",
     "text": [
      "True\n",
      "True\n"
     ]
    }
   ],
   "source": [
    "b = [[False, False], [False, False]]\n",
    "g = DominoesGame(b)\n",
    "print(g.is_legal_move(0, 0, True))\n",
    "print(g.is_legal_move(0, 0, False))"
   ]
  },
  {
   "cell_type": "code",
   "execution_count": 190,
   "metadata": {},
   "outputs": [
    {
     "name": "stdout",
     "output_type": "stream",
     "text": [
      "True\n",
      "True\n",
      "True\n"
     ]
    }
   ],
   "source": [
    "b = [[True, False], [True, False]]\n",
    "g = DominoesGame(b)\n",
    "\n",
    "print(g.is_legal_move(0, 0, False) == False)\n",
    "print(g.is_legal_move(0, 1, True) == True)\n",
    "print(g.is_legal_move(1, 1, True) == False)"
   ]
  },
  {
   "cell_type": "code",
   "execution_count": 191,
   "metadata": {},
   "outputs": [
    {
     "name": "stdout",
     "output_type": "stream",
     "text": [
      "True\n",
      "True\n",
      "6\n"
     ]
    },
    {
     "data": {
      "text/plain": [
       "[[False, False, False], [False, False, False], [False, False, False]]"
      ]
     },
     "execution_count": 191,
     "metadata": {},
     "output_type": "execute_result"
    }
   ],
   "source": [
    "g = create_dominoes_game(3, 3)\n",
    "print(list(g.legal_moves(True)) == [(0, 0), (0, 1), (0, 2), (1, 0), (1, 1), (1, 2)])\n",
    "print(list(g.legal_moves(False))==[(0, 0), (0, 1), (1, 0), (1, 1), (2, 0), (2, 1)])\n",
    "print(len(list(g.legal_moves(False))))\n",
    "g.get_board()"
   ]
  },
  {
   "cell_type": "code",
   "execution_count": 192,
   "metadata": {},
   "outputs": [
    {
     "name": "stdout",
     "output_type": "stream",
     "text": [
      "True\n",
      "True\n"
     ]
    }
   ],
   "source": [
    "b = [[True, False], [True, False]]\n",
    "g = DominoesGame(b) \n",
    "print(list(g.legal_moves(True)) == [(0, 1)])\n",
    "print(list(g.legal_moves(False)) == [])"
   ]
  },
  {
   "cell_type": "code",
   "execution_count": 193,
   "metadata": {},
   "outputs": [
    {
     "name": "stdout",
     "output_type": "stream",
     "text": [
      "True\n"
     ]
    }
   ],
   "source": [
    "g = create_dominoes_game(3, 3)\n",
    "g.perform_move(0, 1, True)\n",
    "print(g.get_board() == [[False, True,  False],\n",
    "  [False, True,  False],\n",
    "  [False, False, False]])\n"
   ]
  },
  {
   "cell_type": "code",
   "execution_count": 194,
   "metadata": {},
   "outputs": [
    {
     "name": "stdout",
     "output_type": "stream",
     "text": [
      "True\n"
     ]
    }
   ],
   "source": [
    "g = create_dominoes_game(3, 3)\n",
    "g.perform_move(1, 0, False)\n",
    "print(g.get_board() == [[False, False, False],\n",
    "  [True,  True,  False],\n",
    "  [False, False, False]])"
   ]
  },
  {
   "cell_type": "code",
   "execution_count": 195,
   "metadata": {},
   "outputs": [
    {
     "name": "stdout",
     "output_type": "stream",
     "text": [
      "True\n"
     ]
    }
   ],
   "source": [
    "g = create_dominoes_game(4, 4)\n",
    "g2 = g.copy()\n",
    "print(g.get_board() == g2.get_board())"
   ]
  },
  {
   "cell_type": "code",
   "execution_count": 196,
   "metadata": {},
   "outputs": [
    {
     "data": {
      "text/plain": [
       "True"
      ]
     },
     "execution_count": 196,
     "metadata": {},
     "output_type": "execute_result"
    }
   ],
   "source": [
    "g = create_dominoes_game(4, 4)\n",
    "g2 = g.copy()\n",
    "g.perform_move(0, 0, True)\n",
    "(g.get_board() == g2.get_board()) == False"
   ]
  },
  {
   "cell_type": "code",
   "execution_count": 197,
   "metadata": {},
   "outputs": [
    {
     "name": "stdout",
     "output_type": "stream",
     "text": [
      "(0, 0) [[True, False], [True, False]]\n",
      "(0, 1) [[False, True], [False, True]]\n"
     ]
    }
   ],
   "source": [
    "b = [[False, False], [False, False]]\n",
    "g = DominoesGame(b)\n",
    "for m, new_g in g.successors(True):\n",
    "  print(m, new_g.get_board())\n",
    "#  (0, 0) [[True, False], [True, False]]\n",
    "#  (0, 1) [[False, True], [False, True]]"
   ]
  },
  {
   "cell_type": "code",
   "execution_count": 198,
   "metadata": {},
   "outputs": [
    {
     "name": "stdout",
     "output_type": "stream",
     "text": [
      "1\n"
     ]
    }
   ],
   "source": [
    "b = [[True, False], [True, False]]\n",
    "g = DominoesGame(b)\n",
    "# g.evaluate(True) # 1\n",
    "# g.evaluate(False) # - 1\n",
    "print(len(list(g.legal_moves(True))))\n"
   ]
  },
  {
   "cell_type": "code",
   "execution_count": 199,
   "metadata": {},
   "outputs": [
    {
     "name": "stdout",
     "output_type": "stream",
     "text": [
      "(0, 1) [[True, True], [True, True]]\n"
     ]
    }
   ],
   "source": [
    "b = [[True, False], [True, False]]\n",
    "g = DominoesGame(b)\n",
    "for m, new_g in g.successors(True):\n",
    "  print(m, new_g.get_board())\n",
    "#(0, 1) [[True, True], [True, True]]"
   ]
  },
  {
   "cell_type": "code",
   "execution_count": 200,
   "metadata": {},
   "outputs": [
    {
     "name": "stdout",
     "output_type": "stream",
     "text": [
      "((0, 1), 2, 6)\n"
     ]
    },
    {
     "data": {
      "text/plain": [
       "((0, 1), 3, 10)"
      ]
     },
     "execution_count": 200,
     "metadata": {},
     "output_type": "execute_result"
    }
   ],
   "source": [
    "b = [[False] * 3 for i in range(3)]\n",
    "g = DominoesGame(b)\n",
    "g.get_best_move(True, 1)\n",
    "print(g.get_best_move(True, 1))\n",
    "#((0, 1), 2, 6)\n",
    "g.get_best_move(True, 2)\n",
    "#((0, 1), 3, 10)"
   ]
  },
  {
   "cell_type": "code",
   "execution_count": 201,
   "metadata": {},
   "outputs": [
    {
     "name": "stdout",
     "output_type": "stream",
     "text": [
      "((2, 0), -3, 2)\n",
      "((2, 0), -2, 5)\n"
     ]
    }
   ],
   "source": [
    "b = [[False] * 3 for i in range(3)]\n",
    "g = DominoesGame(b)\n",
    "g.perform_move(0, 1, True)\n",
    "print(g.get_best_move(False, 1))\n",
    "#((2, 0), -3, 2)\n",
    "print(g.get_best_move(False, 2))\n",
    "#((2, 0), -2, 5)"
   ]
  }
 ],
 "metadata": {
  "kernelspec": {
   "display_name": "Python 3.10.0 64-bit",
   "language": "python",
   "name": "python3"
  },
  "language_info": {
   "codemirror_mode": {
    "name": "ipython",
    "version": 3
   },
   "file_extension": ".py",
   "mimetype": "text/x-python",
   "name": "python",
   "nbconvert_exporter": "python",
   "pygments_lexer": "ipython3",
   "version": "3.10.0"
  },
  "orig_nbformat": 4,
  "vscode": {
   "interpreter": {
    "hash": "aee8b7b246df8f9039afb4144a1f6fd8d2ca17a180786b69acc140d282b71a49"
   }
  }
 },
 "nbformat": 4,
 "nbformat_minor": 2
}
