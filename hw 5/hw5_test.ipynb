{
 "cells": [
  {
   "cell_type": "code",
   "execution_count": 4,
   "metadata": {},
   "outputs": [],
   "source": [
    "def read_board(path):\n",
    "    board = {}\n",
    "    with open(path) as file: \n",
    "        lines = file.readlines()\n",
    "        for row, line in enumerate(lines): \n",
    "            for col, char in enumerate(line.strip()): \n",
    "                cell = (row, col)\n",
    "                if char == '*': \n",
    "                    board[cell] = set(range(1,10))\n",
    "                else: \n",
    "                    board[cell] = {int(char)}\n",
    "    return board"
   ]
  },
  {
   "cell_type": "code",
   "execution_count": 14,
   "metadata": {},
   "outputs": [],
   "source": [
    "def read_board(path):\n",
    "    scene = []\n",
    "    with open(path) as infile:\n",
    "        for row, line in enumerate(infile, start=1):\n",
    "            scene.append([])\n",
    "            for col, char in enumerate(line.strip(), start=1):\n",
    "                if char == \"*\":\n",
    "                    scene[-1].append('0')\n",
    "                elif int(char) > 0:\n",
    "                    scene[-1].append(int(char))\n",
    "                else:\n",
    "                    print (\"Unrecognized character '%s' at line %d, column %d\" %\n",
    "                        (int(char), row, col))\n",
    "                    #return None\n",
    "    if len(scene) < 1:\n",
    "        print(\"Scene must have at least one row\")\n",
    "        return None\n",
    "    if len(scene[0]) < 1:\n",
    "        print(\"Scene must have at least one column\")\n",
    "        return None\n",
    "    if not all(len(row) == len(scene[0]) for row in scene):\n",
    "        print (\"Not all rows are of equal length\")\n",
    "        return None\n",
    "\n",
    "    return scene\n"
   ]
  },
  {
   "cell_type": "code",
   "execution_count": 21,
   "metadata": {},
   "outputs": [
    {
     "name": "stdout",
     "output_type": "stream",
     "text": [
      "6\n"
     ]
    }
   ],
   "source": [
    "b = read_board('homework5_sudoku/easy.txt')\n",
    "print(b[8][8])\n",
    "\n"
   ]
  },
  {
   "cell_type": "code",
   "execution_count": 25,
   "metadata": {},
   "outputs": [],
   "source": [
    "def sudoku_arcs():\n",
    "    arcs = []\n",
    "    #check if the cells are in same line \n",
    "    for row in range(9): \n",
    "        for col in range(9):\n",
    "            for temp_col in range(9): \n",
    "                if col != temp_col:\n",
    "                    arcs.append(((row, col), (row, temp_col)))\n",
    "            for temp_row in range(9): \n",
    "                if row != temp_row:\n",
    "                    arcs.append(((row, col), (temp_row, col)))\n",
    "                    \n",
    "    # check the smaller 3x3 areas \n",
    "    for sub_row in range(0, 9, 3): \n",
    "        for sub_col in range(0, 9, 3): \n",
    "            for i in range(3): \n",
    "                for j in range(3): \n",
    "                    cell1 = (sub_row + i, sub_col + j)\n",
    "                    for x in range(3): \n",
    "                        for y in range(3): \n",
    "                            cell2 = (sub_row + x, sub_col + y)\n",
    "                            if cell1 != cell2: \n",
    "                                arcs.append((cell1, cell2))\n",
    "    return arcs"
   ]
  },
  {
   "cell_type": "code",
   "execution_count": 40,
   "metadata": {},
   "outputs": [],
   "source": [
    "def sudoku_cells():\n",
    "    cells = []\n",
    "    for i in range(9):\n",
    "        for j in range(9): \n",
    "            cells.append((i, j))\n",
    "    return cells \n",
    "\n",
    "def f_sudoku_arcs(): \n",
    "    arcs = []\n",
    "    for row, col in sudoku_cells(): \n",
    "        for index in range(9): \n",
    "            if index != col:\n",
    "                arcs.append(((row, col), (row, index)))\n",
    "            if index != row: \n",
    "                arcs.append(((row, col), (index, col)))\n",
    "    \n",
    "        grid_i = (row // 3) * 3\n",
    "        grid_j = (col // 3) * 3\n",
    "        for r in range(grid_i, grid_i + 3): \n",
    "            for c in range(grid_j, grid_j + 3): \n",
    "                if r != row and c != col: \n",
    "                    arcs.append(((row, col), (r, c)))\n",
    "                \n",
    "    return arcs"
   ]
  },
  {
   "cell_type": "code",
   "execution_count": 28,
   "metadata": {},
   "outputs": [],
   "source": [
    "def sudoku_cells():\n",
    "    return [(row, col) for row in range(9) for col in range(9)]\n",
    "\n",
    "def test_sudoku_arcs():\n",
    "    box_map = {0:0, 1:0, 2:0, 3:3, 4:3, 5:3, 6:6, 7:6, 8:6}\n",
    "    list = []\n",
    "\n",
    "    for row, col in sudoku_cells():\n",
    "        for c in range(9):\n",
    "            if c != col:\n",
    "                list.append(((row, col), (row, c)))\n",
    "        for r in range(9):\n",
    "            if r != row:\n",
    "                list.append(((row, col), (r, col)))\n",
    "\n",
    "        r_start, c_start = box_map[row], box_map[col]\n",
    "        for r in range(r_start, r_start+3):\n",
    "            for c in range(c_start, c_start+3):\n",
    "                if r != row and c != col:\n",
    "                    list.append(((row, col), (r, c)))\n",
    "\n",
    "    return list"
   ]
  },
  {
   "cell_type": "code",
   "execution_count": 32,
   "metadata": {},
   "outputs": [],
   "source": [
    "def idk_sudoku_arcs():\n",
    "    arcs=set()\n",
    "    # line:rows:\n",
    "    for i in range(9):\n",
    "        for j in range(9):\n",
    "             for k in range(9):\n",
    "                 if k!=j:\n",
    "                    arc1=((i,j),(i,k))\n",
    "                    arc2=((j,i),(k,i))\n",
    "                    arcs.add(arc1)\n",
    "                    arcs.add(arc2)\n",
    "    # in the nine cubes\n",
    "    for i in range(9):\n",
    "        for j in range(9):\n",
    "            for k1 in range(3):\n",
    "                for k2 in range(3):\n",
    "                    x1=int(i/3)*3+k1\n",
    "                    y1=int(j/3)*3+k2\n",
    "                    if i !=x1 or j != y1:\n",
    "                        arc3=((i,j),(x1,y1))\n",
    "                        arcs.add(arc3)\n",
    "    return arcs"
   ]
  },
  {
   "cell_type": "code",
   "execution_count": 1,
   "metadata": {},
   "outputs": [
    {
     "ename": "NameError",
     "evalue": "name 'f_sudoku_arcs' is not defined",
     "output_type": "error",
     "traceback": [
      "\u001b[0;31m---------------------------------------------------------------------------\u001b[0m",
      "\u001b[0;31mNameError\u001b[0m                                 Traceback (most recent call last)",
      "Cell \u001b[0;32mIn[1], line 1\u001b[0m\n\u001b[0;32m----> 1\u001b[0m arc \u001b[38;5;241m=\u001b[39m \u001b[43mf_sudoku_arcs\u001b[49m()\n\u001b[1;32m      2\u001b[0m q \u001b[38;5;241m=\u001b[39m queue \u001b[38;5;241m=\u001b[39m [a \u001b[38;5;28;01mfor\u001b[39;00m a \u001b[38;5;129;01min\u001b[39;00m arc]\n\u001b[1;32m      3\u001b[0m test \u001b[38;5;241m=\u001b[39m \u001b[38;5;28mlist\u001b[39m(arc)\n",
      "\u001b[0;31mNameError\u001b[0m: name 'f_sudoku_arcs' is not defined"
     ]
    }
   ],
   "source": [
    "arc = f_sudoku_arcs()\n",
    "q = queue = [a for a in arc]\n",
    "test = list(arc)\n"
   ]
  },
  {
   "cell_type": "code",
   "execution_count": 11,
   "metadata": {},
   "outputs": [
    {
     "name": "stdout",
     "output_type": "stream",
     "text": [
      "20\n"
     ]
    }
   ],
   "source": [
    "def same_box(cell):\n",
    "    box_row = cell[0] // 3\n",
    "    bow_col = cell[1] // 3\n",
    "    return [(i + box_row*3, j + bow_col*3) for i in range(0, 3) for j in range(0, 3) if (i + box_row * 3, j + bow_col * 3) != cell]\n",
    "\n",
    "\n",
    "def relevant_cells(cell):\n",
    "    column_cells = [(i, cell[1]) for i in range(0, 9) if i != cell[0]]\n",
    "    row_cells = [(cell[0], i) for i in range(0, 9) if i != cell[1]]\n",
    "    return list(set(column_cells + row_cells + same_box(cell)))\n",
    "\n",
    "out = relevant_cells((2,2))\n",
    "print(len(out))"
   ]
  },
  {
   "cell_type": "code",
   "execution_count": 15,
   "metadata": {},
   "outputs": [
    {
     "name": "stdout",
     "output_type": "stream",
     "text": [
      "20\n"
     ]
    }
   ],
   "source": [
    "def get_neighbors(cell): \n",
    "    neighbors = set()\n",
    "    row, col = cell\n",
    "    # get neighboring rows \n",
    "    for i in range(9): \n",
    "        if i != cell[0]: \n",
    "            neighbors.add((i, col))\n",
    "            \n",
    "    # get neighboring cols \n",
    "    for j in range(9): \n",
    "        if j != cell[1]: \n",
    "            neighbors.add((row, j))\n",
    "\n",
    "    #check in the 3x3 grid \n",
    "    grid_row = (row // 3) * 3\n",
    "    grid_col = (col // 3) * 3\n",
    "    \n",
    "    for i in range(3): \n",
    "        for j in range(3): \n",
    "            grid_i = grid_row + i\n",
    "            grid_j = grid_col + j\n",
    "            if (grid_i != row or grid_j != col): \n",
    "                neighbors.add((grid_i, grid_j))\n",
    "    return neighbors\n",
    "\n",
    "out = get_neighbors((2,2))\n",
    "\n",
    "print(len(out))"
   ]
  },
  {
   "cell_type": "code",
   "execution_count": 14,
   "metadata": {},
   "outputs": [
    {
     "name": "stdout",
     "output_type": "stream",
     "text": [
      "20\n"
     ]
    }
   ],
   "source": [
    "def find_neighbor(cell):\n",
    "        neighbor=set()\n",
    "        for row in range(9):\n",
    "            if row != cell[0]:\n",
    "                neighbor.add((row,cell[1]))\n",
    "        for col in range(9):\n",
    "            if col != cell[1]:\n",
    "                neighbor.add((cell[0],col))\n",
    "        for ci in range(3):\n",
    "            for cj in range(3):\n",
    "                x1=int(cell[0]/3)*3+ci\n",
    "                y1=int(cell[1]/3)*3+cj\n",
    "                if x1!=cell[0] or y1!=cell[1]:\n",
    "                    #a=(int(cell[0]/3)*3+ci,int(cell[1]/3)*3+cj)\n",
    "                    neighbor.add((x1,y1))\n",
    "        return neighbor\n",
    "\n",
    "out = find_neighbor((2,2))\n",
    "print(len(out))"
   ]
  }
 ],
 "metadata": {
  "kernelspec": {
   "display_name": "Python 3.10.0 64-bit",
   "language": "python",
   "name": "python3"
  },
  "language_info": {
   "codemirror_mode": {
    "name": "ipython",
    "version": 3
   },
   "file_extension": ".py",
   "mimetype": "text/x-python",
   "name": "python",
   "nbconvert_exporter": "python",
   "pygments_lexer": "ipython3",
   "version": "3.10.0"
  },
  "orig_nbformat": 4,
  "vscode": {
   "interpreter": {
    "hash": "aee8b7b246df8f9039afb4144a1f6fd8d2ca17a180786b69acc140d282b71a49"
   }
  }
 },
 "nbformat": 4,
 "nbformat_minor": 2
}
